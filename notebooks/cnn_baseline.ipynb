{
 "cells": [
  {
   "cell_type": "code",
   "execution_count": 17,
   "metadata": {},
   "outputs": [],
   "source": [
    "\"\"\"\n",
    "Caleb Ellington\n",
    "ML 10701, Fall 2020\n",
    "Final Project\n",
    "\n",
    "CNN Baseline\n",
    "\"\"\"\n",
    "\n",
    "import numpy as np # linear algebra\n",
    "import pandas as pd # data processing, CSV file I/O (e.g. pd.read_csv)\n",
    "from PIL import Image\n",
    "import matplotlib.pyplot as plt\n",
    "\n",
    "import tensorflow as tf\n",
    "from tensorflow.keras import layers, models\n",
    "import time\n",
    "\n",
    "# AWS\n",
    "import sagemaker\n",
    "import s3fs"
   ]
  },
  {
   "cell_type": "code",
   "execution_count": 18,
   "metadata": {},
   "outputs": [],
   "source": [
    "# load data from s3\n",
    "role = sagemaker.get_execution_role()\n",
    "fs = s3fs.S3FileSystem()\n",
    "bucket = 'cellingt-ml-final-project'\n",
    "\n",
    "dataset = np.load(fs.open('s3://cellingt-ml-final-project/data/FER/FER_old.npz'))\n",
    "xtrain, xtest, xvalid, ytrain, ytest, yvalid, labels = dataset['xtrain'], dataset['xtest'], dataset['xvalid'], dataset['ytrain'], dataset['ytest'], dataset['yvalid'], dataset['labels']\n",
    "ylabels = {i:label for i, label in enumerate(labels)}"
   ]
  },
  {
   "cell_type": "code",
   "execution_count": 19,
   "metadata": {},
   "outputs": [],
   "source": [
    "xtrain = xtrain[:,:,:,np.newaxis]\n",
    "xtest = xtest[:,:,:,np.newaxis]\n",
    "xvalid = xvalid[:,:,:,np.newaxis]"
   ]
  },
  {
   "cell_type": "code",
   "execution_count": 20,
   "metadata": {},
   "outputs": [
    {
     "data": {
      "text/plain": [
       "Text(0, 0.5, 'Percentage')"
      ]
     },
     "execution_count": 20,
     "metadata": {},
     "output_type": "execute_result"
    },
    {
     "data": {
      "image/png": "[encoded data removed]",
      "text/plain": [
       "<Figure size 432x288 with 1 Axes>"
      ]
     },
     "metadata": {
      "needs_background": "light"
     },
     "output_type": "display_data"
    }
   ],
   "source": [
    "ytrain_labels = np.array([ylabels[np.argmax(yval)] for yval in ytrain])\n",
    "counts = []\n",
    "for val in np.unique(ytrain_labels):\n",
    "    counts.append(np.sum(ytrain_labels == val).astype(int) / len(ytrain_labels))\n",
    "\n",
    "plt.bar(np.unique(ytrain_labels), counts)\n",
    "plt.title(\"Category Distribution in FER2013\")\n",
    "plt.ylabel(\"Percentage\")"
   ]
  },
  {
   "cell_type": "code",
   "execution_count": 49,
   "metadata": {},
   "outputs": [
    {
     "name": "stdout",
     "output_type": "stream",
     "text": [
      "fear\n"
     ]
    },
    {
     "data": {
      "text/plain": [
       "(-0.5, 47.5, 47.5, -0.5)"
      ]
     },
     "execution_count": 49,
     "metadata": {},
     "output_type": "execute_result"
    },
    {
     "data": {
      "image/png": "[encoded data removed]",
      "text/plain": [
       "<Figure size 432x288 with 1 Axes>"
      ]
     },
     "metadata": {
      "needs_background": "light"
     },
     "output_type": "display_data"
    }
   ],
   "source": [
    "i = 33\n",
    "print(ylabels[np.argmax(ytrain[i])])\n",
    "plt.imshow(xtrain[i,:,:,0], cmap='gray')\n",
    "plt.axis('off')"
   ]
  },
  {
   "cell_type": "code",
   "execution_count": 21,
   "metadata": {},
   "outputs": [
    {
     "name": "stdout",
     "output_type": "stream",
     "text": [
      "Model: \"sequential_2\"\n",
      "_________________________________________________________________\n",
      "Layer (type)                 Output Shape              Param #   \n",
      "=================================================================\n",
      "conv2d_6 (Conv2D)            (None, 46, 46, 32)        320       \n",
      "_________________________________________________________________\n",
      "max_pooling2d_4 (MaxPooling2 (None, 23, 23, 32)        0         \n",
      "_________________________________________________________________\n",
      "dropout_6 (Dropout)          (None, 23, 23, 32)        0         \n",
      "_________________________________________________________________\n",
      "conv2d_7 (Conv2D)            (None, 21, 21, 64)        18496     \n",
      "_________________________________________________________________\n",
      "max_pooling2d_5 (MaxPooling2 (None, 10, 10, 64)        0         \n",
      "_________________________________________________________________\n",
      "dropout_7 (Dropout)          (None, 10, 10, 64)        0         \n",
      "_________________________________________________________________\n",
      "conv2d_8 (Conv2D)            (None, 8, 8, 64)          36928     \n",
      "_________________________________________________________________\n",
      "flatten_2 (Flatten)          (None, 4096)              0         \n",
      "_________________________________________________________________\n",
      "dropout_8 (Dropout)          (None, 4096)              0         \n",
      "_________________________________________________________________\n",
      "dense_4 (Dense)              (None, 64)                262208    \n",
      "_________________________________________________________________\n",
      "dense_5 (Dense)              (None, 10)                650       \n",
      "=================================================================\n",
      "Total params: 318,602\n",
      "Trainable params: 318,602\n",
      "Non-trainable params: 0\n",
      "_________________________________________________________________\n"
     ]
    }
   ],
   "source": [
    "# Build default TF2 CNN\n",
    "model = tf.keras.models.Sequential()\n",
    "model.add(layers.Conv2D(32, (3, 3), activation='relu', input_shape=(48, 48, 1)))\n",
    "model.add(layers.MaxPooling2D((2, 2)))\n",
    "model.add(layers.Dropout(.2))\n",
    "model.add(layers.Conv2D(64, (3, 3), activation='relu'))\n",
    "model.add(layers.MaxPooling2D((2, 2)))\n",
    "model.add(layers.Dropout(.2))\n",
    "model.add(layers.Conv2D(64, (3, 3), activation='relu'))\n",
    "model.add(layers.Flatten())\n",
    "model.add(layers.Dropout(.1))\n",
    "model.add(layers.Dense(64, activation='relu'))\n",
    "model.add(layers.Dense(len(labels), activation='softmax'))\n",
    "\n",
    "model.summary()"
   ]
  },
  {
   "cell_type": "code",
   "execution_count": 24,
   "metadata": {},
   "outputs": [],
   "source": [
    "model.compile(optimizer='adam',\n",
    "              loss=tf.keras.losses.CategoricalCrossentropy(),\n",
    "              metrics=['accuracy'])"
   ]
  },
  {
   "cell_type": "code",
   "execution_count": null,
   "metadata": {},
   "outputs": [
    {
     "name": "stdout",
     "output_type": "stream",
     "text": [
      "Train on 28709 samples, validate on 3589 samples\n",
      "Epoch 1/10\n",
      "28709/28709 [==============================] - 68s 2ms/sample - loss: 2.1067 - accuracy: 0.2664 - val_loss: 1.6658 - val_accuracy: 0.3675\n",
      "Epoch 2/10\n",
      "28709/28709 [==============================] - 67s 2ms/sample - loss: 1.6306 - accuracy: 0.3654 - val_loss: 1.5018 - val_accuracy: 0.4157\n",
      "Epoch 3/10\n",
      "28709/28709 [==============================] - 66s 2ms/sample - loss: 1.4918 - accuracy: 0.4244 - val_loss: 1.4032 - val_accuracy: 0.4617\n",
      "Epoch 4/10\n",
      "28709/28709 [==============================] - 67s 2ms/sample - loss: 1.4066 - accuracy: 0.4558 - val_loss: 1.3649 - val_accuracy: 0.4684\n",
      "Epoch 5/10\n",
      "28709/28709 [==============================] - 96s 3ms/sample - loss: 1.3423 - accuracy: 0.4820 - val_loss: 1.3124 - val_accuracy: 0.4948\n",
      "Epoch 6/10\n",
      "28709/28709 [==============================] - 197s 7ms/sample - loss: 1.3005 - accuracy: 0.5015 - val_loss: 1.3123 - val_accuracy: 0.4907\n",
      "Epoch 7/10\n",
      "28709/28709 [==============================] - 280s 10ms/sample - loss: 1.2586 - accuracy: 0.5211 - val_loss: 1.3046 - val_accuracy: 0.5010\n",
      "Epoch 8/10\n",
      "28709/28709 [==============================] - 276s 10ms/sample - loss: 1.2213 - accuracy: 0.5331 - val_loss: 1.2420 - val_accuracy: 0.5235\n",
      "Epoch 9/10\n",
      "28709/28709 [==============================] - 188s 7ms/sample - loss: 1.1804 - accuracy: 0.5490 - val_loss: 1.2542 - val_accuracy: 0.5188\n",
      "Epoch 10/10\n",
      "28709/28709 [==============================] - 210s 7ms/sample - loss: 1.1527 - accuracy: 0.5602 - val_loss: 1.2451 - val_accuracy: 0.5227\n"
     ]
    }
   ],
   "source": [
    "epochs = 10\n",
    "history = model.fit(xtrain, ytrain, epochs=epochs, validation_data=(xtest, ytest))\n",
    "model.save_weights(f's3://cellingt-ml-final-project/models/CNN_FER_baseline_dropout_epoch{epochs}_{int(time.time())}.ckpt')"
   ]
  },
  {
   "cell_type": "code",
   "execution_count": 27,
   "metadata": {},
   "outputs": [
    {
     "data": {
      "text/plain": [
       "(3589, 10)"
      ]
     },
     "execution_count": 27,
     "metadata": {},
     "output_type": "execute_result"
    }
   ],
   "source": [
    "# Confusion matrix calculation\n",
    "yvalid_pred = model.predict(xvalid.astype(float))\n",
    "yvalid_pred.shape"
   ]
  },
  {
   "cell_type": "code",
   "execution_count": 37,
   "metadata": {},
   "outputs": [],
   "source": [
    "yvalid_label = np.array([ylabels[np.argmax(yval)] for yval in yvalid])\n",
    "yvalid_pred_label = np.array([ylabels[np.argmax(yval)] for yval in yvalid_pred])\n",
    "axis = np.unique(yvalid_label)\n",
    "confusion = np.zeros((axis.shape[0], axis.shape[0]))\n",
    "for i, li in enumerate(axis):\n",
    "    for j, lj in enumerate(axis):\n",
    "        truth_idx = yvalid_label == li\n",
    "        pred_arr = yvalid_pred_label[truth_idx]\n",
    "        confusion[j][i] = np.sum((pred_arr == lj).astype(int)) / len(pred_arr)"
   ]
  },
  {
   "cell_type": "code",
   "execution_count": 43,
   "metadata": {},
   "outputs": [
    {
     "data": {
      "image/png": "[encoded data removed]",
      "text/plain": [
       "<Figure size 504x504 with 2 Axes>"
      ]
     },
     "metadata": {
      "needs_background": "light"
     },
     "output_type": "display_data"
    }
   ],
   "source": [
    "fig, ax = plt.subplots(1,1)  \n",
    "fig.set_figwidth(7)\n",
    "fig.set_figheight(7)\n",
    "img = ax.imshow(confusion, vmin=0, vmax=1)\n",
    "ax.set_xticklabels([0, ]+list(axis))\n",
    "ax.set_yticklabels([0, ]+list(axis))\n",
    "ax.set_xlabel(\"True Label\")\n",
    "ax.set_ylabel(\"Pred Label\")\n",
    "ax.set_title(\"Confusion Matrix\")\n",
    "fig.colorbar(img)\n",
    "plt.show()"
   ]
  },
  {
   "cell_type": "code",
   "execution_count": 44,
   "metadata": {},
   "outputs": [],
   "source": [
    "model.save_weights(f's3://cellingt-ml-final-project/models/CNN_FER_baseline_dropout_epoch{epochs}_{int(time.time())}.ckpt')"
   ]
  },
  {
   "cell_type": "code",
   "execution_count": 56,
   "metadata": {},
   "outputs": [
    {
     "data": {
      "image/png": "[encoded data removed]",
      "text/plain": [
       "<Figure size 432x288 with 1 Axes>"
      ]
     },
     "metadata": {
      "needs_background": "light"
     },
     "output_type": "display_data"
    },
    {
     "data": {
      "image/png": "[encoded data removed]",
      "text/plain": [
       "<Figure size 432x288 with 1 Axes>"
      ]
     },
     "metadata": {
      "needs_background": "light"
     },
     "output_type": "display_data"
    }
   ],
   "source": [
    "plt.plot(history.history['loss'], label='train')\n",
    "plt.plot(history.history['val_loss'], label='test')\n",
    "plt.title(\"Loss\")\n",
    "plt.xlabel(\"Epoch\")\n",
    "plt.ylabel(\"Cross Validation Loss\")\n",
    "plt.legend()\n",
    "plt.show()\n",
    "\n",
    "plt.plot(history.history['accuracy'], label='train')\n",
    "plt.plot(history.history['val_accuracy'], label='test')\n",
    "plt.title(\"Accuracy\")\n",
    "plt.xlabel(\"Epoch\")\n",
    "plt.legend()\n",
    "plt.show()"
   ]
  },
  {
   "cell_type": "code",
   "execution_count": 57,
   "metadata": {},
   "outputs": [],
   "source": [
    "dataset = np.load(fs.open('s3://cellingt-ml-final-project/data/FER_plus/FER_plus.npz'))\n",
    "xtrain, xtest, xvalid, ytrain, ytest, yvalid, labels = dataset['xtrain'], dataset['xtest'], dataset['xvalid'], dataset['ytrain'], dataset['ytest'], dataset['yvalid'], dataset['labels']\n",
    "ylabels = {i:label for i, label in enumerate(labels)}\n",
    "\n",
    "xtrain = xtrain[:,:,:,np.newaxis]\n",
    "xtest = xtest[:,:,:,np.newaxis]\n",
    "xvalid = xvalid[:,:,:,np.newaxis]"
   ]
  },
  {
   "cell_type": "code",
   "execution_count": 76,
   "metadata": {},
   "outputs": [
    {
     "name": "stdout",
     "output_type": "stream",
     "text": [
      "Model: \"sequential_4\"\n",
      "_________________________________________________________________\n",
      "Layer (type)                 Output Shape              Param #   \n",
      "=================================================================\n",
      "conv2d_12 (Conv2D)           (None, 46, 46, 32)        320       \n",
      "_________________________________________________________________\n",
      "max_pooling2d_8 (MaxPooling2 (None, 23, 23, 32)        0         \n",
      "_________________________________________________________________\n",
      "dropout_12 (Dropout)         (None, 23, 23, 32)        0         \n",
      "_________________________________________________________________\n",
      "conv2d_13 (Conv2D)           (None, 21, 21, 64)        18496     \n",
      "_________________________________________________________________\n",
      "max_pooling2d_9 (MaxPooling2 (None, 10, 10, 64)        0         \n",
      "_________________________________________________________________\n",
      "dropout_13 (Dropout)         (None, 10, 10, 64)        0         \n",
      "_________________________________________________________________\n",
      "conv2d_14 (Conv2D)           (None, 8, 8, 64)          36928     \n",
      "_________________________________________________________________\n",
      "flatten_4 (Flatten)          (None, 4096)              0         \n",
      "_________________________________________________________________\n",
      "dropout_14 (Dropout)         (None, 4096)              0         \n",
      "_________________________________________________________________\n",
      "dense_8 (Dense)              (None, 64)                262208    \n",
      "_________________________________________________________________\n",
      "dense_9 (Dense)              (None, 10)                650       \n",
      "=================================================================\n",
      "Total params: 318,602\n",
      "Trainable params: 318,602\n",
      "Non-trainable params: 0\n",
      "_________________________________________________________________\n",
      "Train on 28709 samples, validate on 3589 samples\n",
      "Epoch 1/10\n",
      "28709/28709 [==============================] - 67s 2ms/sample - loss: 2.0367 - accuracy: 0.3485 - val_loss: 1.7150 - val_accuracy: 0.4522\n",
      "Epoch 2/10\n",
      "28709/28709 [==============================] - 68s 2ms/sample - loss: 1.6612 - accuracy: 0.4795 - val_loss: 1.4877 - val_accuracy: 0.5678\n",
      "Epoch 3/10\n",
      "28709/28709 [==============================] - 66s 2ms/sample - loss: 1.5009 - accuracy: 0.5580 - val_loss: 1.3470 - val_accuracy: 0.6147\n",
      "Epoch 4/10\n",
      "28709/28709 [==============================] - 81s 3ms/sample - loss: 1.3985 - accuracy: 0.6055 - val_loss: 1.3152 - val_accuracy: 0.6286\n",
      "Epoch 5/10\n",
      "28709/28709 [==============================] - 228s 8ms/sample - loss: 1.3523 - accuracy: 0.6277 - val_loss: 1.2887 - val_accuracy: 0.6470\n",
      "Epoch 6/10\n",
      "28709/28709 [==============================] - 228s 8ms/sample - loss: 1.3169 - accuracy: 0.6438 - val_loss: 1.2344 - val_accuracy: 0.6631\n",
      "Epoch 7/10\n",
      "28709/28709 [==============================] - 278s 10ms/sample - loss: 1.2841 - accuracy: 0.6554 - val_loss: 1.2326 - val_accuracy: 0.6715\n",
      "Epoch 8/10\n",
      "28709/28709 [==============================] - 281s 10ms/sample - loss: 1.2564 - accuracy: 0.6686 - val_loss: 1.2133 - val_accuracy: 0.6670\n",
      "Epoch 9/10\n",
      "28709/28709 [==============================] - 220s 8ms/sample - loss: 1.2353 - accuracy: 0.6770 - val_loss: 1.2032 - val_accuracy: 0.6723\n",
      "Epoch 10/10\n",
      "28709/28709 [==============================] - 185s 6ms/sample - loss: 1.2146 - accuracy: 0.6913 - val_loss: 1.1746 - val_accuracy: 0.6902\n"
     ]
    }
   ],
   "source": [
    "# Build default TF2 CNN\n",
    "model = tf.keras.models.Sequential()\n",
    "model.add(layers.Conv2D(32, (3, 3), activation='relu', input_shape=(48, 48, 1)))\n",
    "model.add(layers.MaxPooling2D((2, 2)))\n",
    "model.add(layers.Dropout(.2))\n",
    "model.add(layers.Conv2D(64, (3, 3), activation='relu'))\n",
    "model.add(layers.MaxPooling2D((2, 2)))\n",
    "model.add(layers.Dropout(.2))\n",
    "model.add(layers.Conv2D(64, (3, 3), activation='relu'))\n",
    "model.add(layers.Flatten())\n",
    "model.add(layers.Dropout(.1))\n",
    "model.add(layers.Dense(64, activation='relu'))\n",
    "model.add(layers.Dense(len(labels), activation='softmax'))\n",
    "\n",
    "model.summary()\n",
    "\n",
    "model.compile(optimizer='adam',\n",
    "              loss=tf.keras.losses.CategoricalCrossentropy(),\n",
    "              metrics=['accuracy'])\n",
    "epochs = 10\n",
    "# model.load_weights('s3://cellingt-ml-final-project/models/CNN_FERplus_baseline_dropout_epoch10_1607367112.ckpt')\n",
    "history = model.fit(xtrain, ytrain, epochs=epochs, validation_data=(xtest, ytest))\n",
    "# model.save_weights(f's3://cellingt-ml-final-project/models/CNN_FERplus_baseline_dropout_epoch{epochs}_{int(time.time())}.ckpt')"
   ]
  },
  {
   "cell_type": "code",
   "execution_count": 59,
   "metadata": {},
   "outputs": [
    {
     "data": {
      "text/plain": [
       "(3589, 10)"
      ]
     },
     "execution_count": 59,
     "metadata": {},
     "output_type": "execute_result"
    }
   ],
   "source": [
    "# Confusion matrix calculation\n",
    "yvalid_pred = model.predict(xvalid.astype(float))\n",
    "yvalid_pred.shape"
   ]
  },
  {
   "cell_type": "code",
   "execution_count": 62,
   "metadata": {},
   "outputs": [
    {
     "data": {
      "text/plain": [
       "{0: 'anger',\n",
       " 1: 'disgust',\n",
       " 2: 'fear',\n",
       " 3: 'happiness',\n",
       " 4: 'sadness',\n",
       " 5: 'surprise',\n",
       " 6: 'neutral',\n",
       " 7: 'contempt',\n",
       " 8: 'unknown',\n",
       " 9: 'NF'}"
      ]
     },
     "execution_count": 62,
     "metadata": {},
     "output_type": "execute_result"
    }
   ],
   "source": []
  },
  {
   "cell_type": "code",
   "execution_count": 63,
   "metadata": {},
   "outputs": [],
   "source": [
    "yvalid_label = np.array([ylabels[np.argmax(yval)] for yval in yvalid])\n",
    "yvalid_pred_label = np.array([ylabels[np.argmax(yval)] for yval in yvalid_pred])\n",
    "axis = np.unique(yvalid_label)\n",
    "confusion = np.zeros((axis.shape[0], axis.shape[0]))\n",
    "for i, li in enumerate(axis):\n",
    "    for j, lj in enumerate(axis):\n",
    "        truth_idx = yvalid_label == li\n",
    "        pred_arr = yvalid_pred_label[truth_idx]\n",
    "        confusion[j][i] = np.sum((pred_arr == lj).astype(int)) / len(pred_arr)"
   ]
  },
  {
   "cell_type": "code",
   "execution_count": 65,
   "metadata": {},
   "outputs": [
    {
     "data": {
      "text/plain": [
       "array(['NF', 'anger', 'contempt', 'disgust', 'fear', 'happiness',\n",
       "       'neutral', 'sadness', 'surprise', 'unknown'], dtype='<U9')"
      ]
     },
     "execution_count": 65,
     "metadata": {},
     "output_type": "execute_result"
    }
   ],
   "source": [
    "axis"
   ]
  },
  {
   "cell_type": "code",
   "execution_count": 75,
   "metadata": {},
   "outputs": [
    {
     "data": {
      "image/png": "[encoded data removed]",
      "text/plain": [
       "<Figure size 720x720 with 2 Axes>"
      ]
     },
     "metadata": {
      "needs_background": "light"
     },
     "output_type": "display_data"
    }
   ],
   "source": [
    "fig, ax = plt.subplots(1,1)  \n",
    "fig.set_figwidth(10)\n",
    "fig.set_figheight(10)\n",
    "img = ax.imshow(confusion, vmin=0, vmax=1)\n",
    "ax.set_xticks(np.arange(10))\n",
    "ax.set_yticks(np.arange(10))\n",
    "ax.set_xticklabels(list(axis))\n",
    "ax.set_yticklabels(list(axis))\n",
    "ax.set_xlabel(\"True Label\")\n",
    "ax.set_ylabel(\"Pred Label\")\n",
    "ax.set_title(\"Confusion Matrix\")\n",
    "fig.colorbar(img)\n",
    "plt.show()"
   ]
  },
  {
   "cell_type": "code",
   "execution_count": null,
   "metadata": {},
   "outputs": [
    {
     "name": "stdout",
     "output_type": "stream",
     "text": [
      "Train on 28709 samples, validate on 3589 samples\n",
      "Epoch 1/10\n",
      "28709/28709 [==============================] - 67s 2ms/sample - loss: 1.2067 - accuracy: 0.6993 - val_loss: 1.1830 - val_accuracy: 0.7010\n",
      "Epoch 2/10\n",
      "28709/28709 [==============================] - 65s 2ms/sample - loss: 1.1904 - accuracy: 0.7050 - val_loss: 1.1888 - val_accuracy: 0.6879\n",
      "Epoch 3/10\n",
      "28709/28709 [==============================] - 67s 2ms/sample - loss: 1.1757 - accuracy: 0.7117 - val_loss: 1.1714 - val_accuracy: 0.7038\n",
      "Epoch 4/10\n",
      "28709/28709 [==============================] - 65s 2ms/sample - loss: 1.1670 - accuracy: 0.7195 - val_loss: 1.1723 - val_accuracy: 0.7099\n",
      "Epoch 5/10\n",
      "28709/28709 [==============================] - 65s 2ms/sample - loss: 1.1611 - accuracy: 0.7193 - val_loss: 1.1869 - val_accuracy: 0.6916\n",
      "Epoch 6/10\n",
      "28709/28709 [==============================] - 67s 2ms/sample - loss: 1.1520 - accuracy: 0.7250 - val_loss: 1.1735 - val_accuracy: 0.6980\n",
      "Epoch 7/10\n",
      "28709/28709 [==============================] - 65s 2ms/sample - loss: 1.1359 - accuracy: 0.7377 - val_loss: 1.1669 - val_accuracy: 0.6999\n",
      "Epoch 8/10\n",
      "28709/28709 [==============================] - 65s 2ms/sample - loss: 1.1297 - accuracy: 0.7379 - val_loss: 1.1541 - val_accuracy: 0.7083\n",
      "Epoch 9/10\n",
      "28709/28709 [==============================] - 66s 2ms/sample - loss: 1.1249 - accuracy: 0.7396 - val_loss: 1.1564 - val_accuracy: 0.7049\n",
      "Epoch 10/10\n",
      "28709/28709 [==============================] - 65s 2ms/sample - loss: 1.1166 - accuracy: 0.7445 - val_loss: 1.1691 - val_accuracy: 0.7094\n"
     ]
    }
   ],
   "source": [
    "history = model.fit(xtrain, ytrain, epochs=epochs, validation_data=(xtest, ytest))\n",
    "model.save_weights(f's3://cellingt-ml-final-project/models/CNN_FERplus_baseline_dropout_epoch{20}_{int(time.time())}.ckpt')"
   ]
  },
  {
   "cell_type": "code",
   "execution_count": 46,
   "metadata": {},
   "outputs": [],
   "source": [
    "dataset = np.load(fs.open('s3://cellingt-ml-final-project/data/FER_processed/FER_edge.npz'))\n",
    "xtrain, xtest, ytrain, ytest, labels = dataset['xtrain'], dataset['xtest'], dataset['ytrain'], dataset['ytest'], dataset['labels']\n",
    "ylabels = {i:label for i, label in enumerate(labels)}\n",
    "\n",
    "xtrain = xtrain[:,:,:,np.newaxis]\n",
    "xtest = xtest[:,:,:,np.newaxis]"
   ]
  },
  {
   "cell_type": "code",
   "execution_count": 47,
   "metadata": {},
   "outputs": [
    {
     "name": "stdout",
     "output_type": "stream",
     "text": [
      "Model: \"sequential_8\"\n",
      "_________________________________________________________________\n",
      "Layer (type)                 Output Shape              Param #   \n",
      "=================================================================\n",
      "conv2d_24 (Conv2D)           (None, 46, 46, 32)        320       \n",
      "_________________________________________________________________\n",
      "max_pooling2d_16 (MaxPooling (None, 23, 23, 32)        0         \n",
      "_________________________________________________________________\n",
      "dropout_14 (Dropout)         (None, 23, 23, 32)        0         \n",
      "_________________________________________________________________\n",
      "conv2d_25 (Conv2D)           (None, 21, 21, 64)        18496     \n",
      "_________________________________________________________________\n",
      "max_pooling2d_17 (MaxPooling (None, 10, 10, 64)        0         \n",
      "_________________________________________________________________\n",
      "dropout_15 (Dropout)         (None, 10, 10, 64)        0         \n",
      "_________________________________________________________________\n",
      "conv2d_26 (Conv2D)           (None, 8, 8, 64)          36928     \n",
      "_________________________________________________________________\n",
      "flatten_8 (Flatten)          (None, 4096)              0         \n",
      "_________________________________________________________________\n",
      "dropout_16 (Dropout)         (None, 4096)              0         \n",
      "_________________________________________________________________\n",
      "dense_16 (Dense)             (None, 64)                262208    \n",
      "_________________________________________________________________\n",
      "dense_17 (Dense)             (None, 10)                650       \n",
      "=================================================================\n",
      "Total params: 318,602\n",
      "Trainable params: 318,602\n",
      "Non-trainable params: 0\n",
      "_________________________________________________________________\n",
      "Train on 28709 samples, validate on 7178 samples\n",
      "Epoch 1/10\n",
      "28709/28709 [==============================] - 70s 2ms/sample - loss: 1.6839 - accuracy: 0.3291 - val_loss: 1.5806 - val_accuracy: 0.3812\n",
      "Epoch 2/10\n",
      "28709/28709 [==============================] - 67s 2ms/sample - loss: 1.5231 - accuracy: 0.4087 - val_loss: 1.4924 - val_accuracy: 0.4179\n",
      "Epoch 3/10\n",
      "28709/28709 [==============================] - 67s 2ms/sample - loss: 1.4402 - accuracy: 0.4437 - val_loss: 1.4421 - val_accuracy: 0.4356\n",
      "Epoch 4/10\n",
      "28709/28709 [==============================] - 68s 2ms/sample - loss: 1.3594 - accuracy: 0.4803 - val_loss: 1.4232 - val_accuracy: 0.4485\n",
      "Epoch 5/10\n",
      "28709/28709 [==============================] - 67s 2ms/sample - loss: 1.2823 - accuracy: 0.5125 - val_loss: 1.4293 - val_accuracy: 0.4501\n",
      "Epoch 6/10\n",
      "28709/28709 [==============================] - 67s 2ms/sample - loss: 1.2008 - accuracy: 0.5452 - val_loss: 1.4770 - val_accuracy: 0.4402\n",
      "Epoch 7/10\n",
      "28709/28709 [==============================] - 68s 2ms/sample - loss: 1.1302 - accuracy: 0.5784 - val_loss: 1.4663 - val_accuracy: 0.4576\n",
      "Epoch 8/10\n",
      "28709/28709 [==============================] - 67s 2ms/sample - loss: 1.0517 - accuracy: 0.6064 - val_loss: 1.4895 - val_accuracy: 0.4583\n",
      "Epoch 9/10\n",
      "28709/28709 [==============================] - 68s 2ms/sample - loss: 0.9931 - accuracy: 0.6291 - val_loss: 1.5189 - val_accuracy: 0.4539\n",
      "Epoch 10/10\n",
      "28709/28709 [==============================] - 67s 2ms/sample - loss: 0.9271 - accuracy: 0.6533 - val_loss: 1.5697 - val_accuracy: 0.4590\n"
     ]
    }
   ],
   "source": [
    "# Build default TF2 CNN\n",
    "model = tf.keras.models.Sequential()\n",
    "model.add(layers.Conv2D(32, (3, 3), activation='relu', input_shape=(48, 48, 1)))\n",
    "model.add(layers.MaxPooling2D((2, 2)))\n",
    "model.add(layers.Dropout(.2))\n",
    "model.add(layers.Conv2D(64, (3, 3), activation='relu'))\n",
    "model.add(layers.MaxPooling2D((2, 2)))\n",
    "model.add(layers.Dropout(.2))\n",
    "model.add(layers.Conv2D(64, (3, 3), activation='relu'))\n",
    "model.add(layers.Flatten())\n",
    "model.add(layers.Dropout(.1))\n",
    "model.add(layers.Dense(64, activation='relu'))\n",
    "model.add(layers.Dense(len(labels), activation='softmax'))\n",
    "\n",
    "model.summary()\n",
    "\n",
    "model.compile(optimizer='adam',\n",
    "              loss=tf.keras.losses.CategoricalCrossentropy(),\n",
    "              metrics=['accuracy'])\n",
    "epochs = 10\n",
    "history = model.fit(xtrain, ytrain, epochs=epochs, validation_data=(xtest, ytest))\n",
    "model.save_weights(f's3://cellingt-ml-final-project/models/CNN_FERedge_baseline_dropout_epoch{epochs}_{int(time.time())}.ckpt')"
   ]
  },
  {
   "cell_type": "code",
   "execution_count": null,
   "metadata": {},
   "outputs": [],
   "source": []
  }
 ],
 "metadata": {
  "kernelspec": {
   "display_name": "conda_amazonei_tensorflow2_p36",
   "language": "python",
   "name": "conda_amazonei_tensorflow2_p36"
  },
  "language_info": {
   "codemirror_mode": {
    "name": "ipython",
    "version": 3
   },
   "file_extension": ".py",
   "mimetype": "text/x-python",
   "name": "python",
   "nbconvert_exporter": "python",
   "pygments_lexer": "ipython3",
   "version": "3.6.10"
  }
 },
 "nbformat": 4,
 "nbformat_minor": 4
}
