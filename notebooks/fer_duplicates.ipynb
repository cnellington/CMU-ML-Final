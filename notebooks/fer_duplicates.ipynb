{
 "cells": [
  {
   "cell_type": "code",
   "execution_count": null,
   "metadata": {},
   "outputs": [],
   "source": [
    "\"\"\"\n",
    "Caleb Ellington\n",
    "ML 10701, Fall 2020\n",
    "Final Project\n",
    "\n",
    "Default VAE\n",
    "\"\"\"\n",
    "\n",
    "import numpy as np # linear algebra\n",
    "import pandas as pd # data processing, CSV file I/O (e.g. pd.read_csv)\n",
    "from PIL import Image\n",
    "import matplotlib.pyplot as plt\n",
    "\n",
    "import tensorflow as tf\n",
    "from tensorflow.keras import layers, models\n",
    "\n",
    "# AWS\n",
    "import sagemaker\n",
    "import s3fs"
   ]
  },
  {
   "cell_type": "code",
   "execution_count": 2,
   "metadata": {},
   "outputs": [],
   "source": [
    "# load data from s3\n",
    "role = sagemaker.get_execution_role()\n",
    "fs = s3fs.S3FileSystem()\n",
    "bucket = 'cellingt-ml-final-project'\n",
    "subfolder = 'data/FER/'\n",
    "path = f's3://{bucket}/{subfolder}'\n",
    "\n",
    "dataset = np.load(fs.open(f's3://{bucket}/FER_processed.npz'))\n",
    "xtrain, ytrain, xtest, ytest = dataset['xtrain'], dataset['ytrain'], dataset['xtest'], dataset['ytest']\n",
    "ylabels = {'angry': 0, 'disgust': 1, 'fear': 2, 'happy': 3, 'sad': 4, 'surprise': 5, 'neutral': 6}\n",
    "ylabels_rev = {val:key for key, val in ylabels.items()}"
   ]
  },
  {
   "cell_type": "code",
   "execution_count": 20,
   "metadata": {},
   "outputs": [
    {
     "name": "stdout",
     "output_type": "stream",
     "text": [
      "7178\n",
      "0 0\n",
      "100 0\n",
      "200 1\n",
      "300 1\n",
      "400 1\n",
      "500 2\n",
      "600 2\n",
      "700 4\n",
      "800 5\n",
      "900 6\n",
      "1000 6\n",
      "1100 6\n",
      "1200 7\n",
      "1300 7\n",
      "1400 7\n",
      "1500 8\n",
      "1600 8\n",
      "1700 8\n",
      "1800 8\n",
      "1900 8\n",
      "2000 9\n",
      "2100 11\n",
      "2200 11\n",
      "2300 11\n",
      "2400 11\n",
      "2500 14\n",
      "2600 14\n",
      "2700 14\n",
      "2800 15\n",
      "2900 16\n",
      "3000 16\n",
      "3100 16\n",
      "3200 17\n",
      "3300 19\n",
      "3400 23\n",
      "3500 24\n",
      "3600 24\n",
      "3700 25\n",
      "3800 27\n",
      "3900 28\n",
      "4000 28\n",
      "4100 32\n",
      "4200 38\n",
      "4300 51\n",
      "4400 57\n",
      "4500 61\n",
      "4600 64\n",
      "4700 64\n",
      "4800 66\n",
      "4900 68\n",
      "5000 68\n",
      "5100 68\n",
      "5200 73\n",
      "5300 73\n",
      "5400 74\n",
      "5500 74\n",
      "5600 74\n",
      "5700 75\n",
      "5800 75\n",
      "5900 75\n",
      "6000 75\n",
      "6100 75\n",
      "6200 77\n",
      "6300 82\n",
      "6400 83\n",
      "6500 83\n",
      "6600 84\n",
      "6700 84\n",
      "6800 84\n",
      "6900 87\n",
      "7000 89\n",
      "7100 90\n"
     ]
    },
    {
     "data": {
      "text/plain": [
       "91"
      ]
     },
     "execution_count": 20,
     "metadata": {},
     "output_type": "execute_result"
    }
   ],
   "source": [
    "# Check testset duplicates\n",
    "duplabels = []\n",
    "print(len(xtest))\n",
    "for i, (img1, y1) in enumerate(zip(xtest[:-1], ytest[:-1])):\n",
    "    if i%100 == 0:\n",
    "        print(i, len(duplabels))\n",
    "    for j, (img2, y2) in enumerate(zip(xtest[i+1:], ytest[i+1:])):\n",
    "        if (img1 == img2).all():\n",
    "            duplabels.append((i, i+j+1, y1, y2))\n",
    "dups = [(i, j) for i, j, _, _ in duplabels]\n",
    "np.save(fs.open(f's3://{bucket}/FER_testset_dups.npy', 'wb'), dups)"
   ]
  },
  {
   "cell_type": "code",
   "execution_count": 51,
   "metadata": {},
   "outputs": [],
   "source": []
  },
  {
   "cell_type": "code",
   "execution_count": 52,
   "metadata": {},
   "outputs": [],
   "source": []
  },
  {
   "cell_type": "code",
   "execution_count": 53,
   "metadata": {},
   "outputs": [],
   "source": []
  },
  {
   "cell_type": "code",
   "execution_count": null,
   "metadata": {},
   "outputs": [],
   "source": []
  },
  {
   "cell_type": "code",
   "execution_count": null,
   "metadata": {},
   "outputs": [],
   "source": []
  },
  {
   "cell_type": "code",
   "execution_count": null,
   "metadata": {},
   "outputs": [],
   "source": []
  }
 ],
 "metadata": {
  "kernelspec": {
   "display_name": "conda_amazonei_tensorflow2_p36",
   "language": "python",
   "name": "conda_amazonei_tensorflow2_p36"
  },
  "language_info": {
   "codemirror_mode": {
    "name": "ipython",
    "version": 3
   },
   "file_extension": ".py",
   "mimetype": "text/x-python",
   "name": "python",
   "nbconvert_exporter": "python",
   "pygments_lexer": "ipython3",
   "version": "3.6.10"
  }
 },
 "nbformat": 4,
 "nbformat_minor": 4
}
